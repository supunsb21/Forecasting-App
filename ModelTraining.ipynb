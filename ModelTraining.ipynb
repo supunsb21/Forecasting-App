{
 "cells": [
  {
   "cell_type": "markdown",
   "id": "b46a6159",
   "metadata": {},
   "source": [
    "TATA Prophet Model"
   ]
  },
  {
   "cell_type": "code",
   "execution_count": 8,
   "id": "24192940",
   "metadata": {},
   "outputs": [
    {
     "name": "stderr",
     "output_type": "stream",
     "text": [
      "09:24:52 - cmdstanpy - INFO - Chain [1] start processing\n",
      "09:24:52 - cmdstanpy - INFO - Chain [1] done processing\n"
     ]
    },
    {
     "name": "stdout",
     "output_type": "stream",
     "text": [
      "Model saved successfully!\n"
     ]
    }
   ],
   "source": [
    "import joblib\n",
    "import pandas as pd\n",
    "from prophet import Prophet\n",
    "\n",
    "# Load the dataset\n",
    "df = pd.read_csv('Srv_&_Bodyshop-TATA_Commercial_monthly_complaints.csv', parse_dates=['Month_Year'])\n",
    "\n",
    "# Rename the columns\n",
    "df = df.rename(columns={'Month_Year': 'ds', 'Complaint Count': 'y'})\n",
    "\n",
    "# Ensure 'ds' is of datetime type\n",
    "df['ds'] = pd.to_datetime(df['ds'], format='%Y-%m')\n",
    "\n",
    "# Train the model\n",
    "model = Prophet()\n",
    "model.fit(df)\n",
    "\n",
    "# Save the trained model using joblib\n",
    "joblib.dump(model, 'TATA_model.pkl')\n",
    "\n",
    "print(\"Model saved successfully!\")"
   ]
  },
  {
   "cell_type": "markdown",
   "id": "93c2b8d0",
   "metadata": {},
   "source": [
    "M & M Prophet Model"
   ]
  },
  {
   "cell_type": "code",
   "execution_count": 9,
   "id": "933ff88f",
   "metadata": {},
   "outputs": [
    {
     "name": "stderr",
     "output_type": "stream",
     "text": [
      "09:31:25 - cmdstanpy - INFO - Chain [1] start processing\n",
      "09:31:26 - cmdstanpy - INFO - Chain [1] done processing\n"
     ]
    },
    {
     "name": "stdout",
     "output_type": "stream",
     "text": [
      "Model saved successfully!\n"
     ]
    }
   ],
   "source": [
    "# Load the dataset\n",
    "df = pd.read_csv('M&M_Service_monthly_complaints.csv', parse_dates=['Month_Year'])\n",
    "\n",
    "# Rename the columns\n",
    "df = df.rename(columns={'Month_Year': 'ds', 'Complaint Count': 'y'})\n",
    "\n",
    "# Ensure 'ds' is of datetime type\n",
    "df['ds'] = pd.to_datetime(df['ds'], format='%Y-%m')\n",
    "\n",
    "# Train the model\n",
    "model = Prophet()\n",
    "model.fit(df)\n",
    "\n",
    "# Save the trained model using joblib\n",
    "joblib.dump(model, 'MnM_model.pkl')\n",
    "\n",
    "print(\"Model saved successfully!\")"
   ]
  },
  {
   "cell_type": "markdown",
   "id": "529e8a4f",
   "metadata": {},
   "source": [
    "MB Prophet Model"
   ]
  },
  {
   "cell_type": "code",
   "execution_count": 10,
   "id": "0bbc5f14",
   "metadata": {},
   "outputs": [
    {
     "name": "stderr",
     "output_type": "stream",
     "text": [
      "09:31:41 - cmdstanpy - INFO - Chain [1] start processing\n",
      "09:31:41 - cmdstanpy - INFO - Chain [1] done processing\n"
     ]
    },
    {
     "name": "stdout",
     "output_type": "stream",
     "text": [
      "Model saved successfully!\n"
     ]
    }
   ],
   "source": [
    "# Load the dataset\n",
    "df = pd.read_csv('Service_&_Bodyshop-MB_monthly_complaints.csv', parse_dates=['Month_Year'])\n",
    "\n",
    "# Rename the columns\n",
    "df = df.rename(columns={'Month_Year': 'ds', 'Complaint Count': 'y'})\n",
    "\n",
    "# Ensure 'ds' is of datetime type\n",
    "df['ds'] = pd.to_datetime(df['ds'], format='%Y-%m')\n",
    "\n",
    "# Train the model\n",
    "model = Prophet()\n",
    "model.fit(df)\n",
    "\n",
    "# Save the trained model using joblib\n",
    "joblib.dump(model, 'MB_model.pkl')\n",
    "\n",
    "print(\"Model saved successfully!\")"
   ]
  }
 ],
 "metadata": {
  "kernelspec": {
   "display_name": "base",
   "language": "python",
   "name": "python3"
  },
  "language_info": {
   "codemirror_mode": {
    "name": "ipython",
    "version": 3
   },
   "file_extension": ".py",
   "mimetype": "text/x-python",
   "name": "python",
   "nbconvert_exporter": "python",
   "pygments_lexer": "ipython3",
   "version": "3.13.5"
  }
 },
 "nbformat": 4,
 "nbformat_minor": 5
}
